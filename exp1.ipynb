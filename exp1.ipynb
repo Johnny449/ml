{
 "cells": [
  {
   "cell_type": "markdown",
   "id": "d37582d4",
   "metadata": {},
   "source": [
    "import numpy as np\n",
    "arr=np.array([[1,2,3],[2,3,4]])\n",
    "print(arr)\n"
   ]
  },
  {
   "cell_type": "code",
   "execution_count": 10,
   "id": "e2c89a9f",
   "metadata": {},
   "outputs": [
    {
     "name": "stdout",
     "output_type": "stream",
     "text": [
      "[5.+0.j 6.+0.j 7.+0.j]\n"
     ]
    }
   ],
   "source": [
    "import numpy as np\n",
    "arr=np.array([5,6,7], dtype=complex)\n",
    "print(arr)\n"
   ]
  },
  {
   "cell_type": "code",
   "execution_count": 21,
   "id": "d79ee3aa",
   "metadata": {},
   "outputs": [
    {
     "name": "stdout",
     "output_type": "stream",
     "text": [
      "int32\n"
     ]
    }
   ],
   "source": [
    " import numpy as np\n",
    "dt=np.dtype('i4')\n",
    "print(dt)"
   ]
  },
  {
   "cell_type": "code",
   "execution_count": 20,
   "id": "215e61f1",
   "metadata": {},
   "outputs": [
    {
     "name": "stdout",
     "output_type": "stream",
     "text": [
      "[[ 4 -4  1]\n",
      " [-7  1  4]]\n",
      "\n",
      "[[ 4 -4  1]\n",
      " [-7  1  4]]\n",
      "\n",
      "[[45 21 72]\n",
      " [ 8  6 32]]\n",
      "\n",
      "[[ 148.4131591  1096.63315843 2980.95798704]\n",
      " [2980.95798704    7.3890561    54.59815003]]\n"
     ]
    }
   ],
   "source": [
    "import numpy as np\n",
    "a=np.array([[9,3,9],[1,3,8]])\n",
    "b=np.array([[5,7,8],[8,2,4]])\n",
    "g=a-b\n",
    "print(g)\n",
    "print()\n",
    "print(np.subtract(a,b))\n",
    "print()\n",
    "print(np.multiply(a,b))\n",
    "print()\n",
    "print(np.exp(b))\n"
   ]
  },
  {
   "cell_type": "code",
   "execution_count": 37,
   "id": "5ca35b35",
   "metadata": {},
   "outputs": [
    {
     "name": "stdout",
     "output_type": "stream",
     "text": [
      "False\n",
      "186\n",
      "97\n",
      "31.0\n",
      "5.666666666666667\n",
      "2.2110831935702664\n"
     ]
    }
   ],
   "source": [
    "import numpy as np\n",
    "a=np.array([[97,13,19],[12,37,8]])  \n",
    "b=np.array([[5,7,8],[8,2,4]])\n",
    "print(np.array_equal(a,b))\n",
    "print(a.sum())\n",
    "print(a.max())\n",
    "print(a.mean())\n",
    "print(b.mean())\n",
    "print(np.std(b))\n"
   ]
  },
  {
   "cell_type": "code",
   "execution_count": 41,
   "id": "63cd6738",
   "metadata": {},
   "outputs": [
    {
     "name": "stdout",
     "output_type": "stream",
     "text": [
      "(2, 3)\n",
      "(2, 3)\n",
      "\n",
      "[[97 13]\n",
      " [19 12]\n",
      " [37  8]]\n",
      "\n",
      "[[5 7 8 8 2 4]]\n",
      "\n",
      "[[[ 0  1  2]\n",
      "  [ 3  4  5]\n",
      "  [ 6  7  8]\n",
      "  [ 9 10 11]]\n",
      "\n",
      " [[12 13 14]\n",
      "  [15 16 17]\n",
      "  [18 19 20]\n",
      "  [21 22 23]]]\n"
     ]
    }
   ],
   "source": [
    "import numpy as np\n",
    "a=np.array([[97,13,19],[12,37,8]])\n",
    "b=np.array([[5,7,8],[8,2,4]])\n",
    "print(a.shape)\n",
    "print(b.shape)\n",
    "print()\n",
    "a.shape=(3,2)\n",
    "print(a)\n",
    "print()\n",
    "b.shape=(1,6)\n",
    "print(b)\n",
    "print()\n",
    "c=np.arange(24)\n",
    "d=c.reshape(2,4,3)\n",
    "print(d)"
   ]
  },
  {
   "cell_type": "code",
   "execution_count": 42,
   "id": "14f2f21e",
   "metadata": {},
   "outputs": [
    {
     "name": "stdout",
     "output_type": "stream",
     "text": [
      "  C_CONTIGUOUS : True\n",
      "  F_CONTIGUOUS : False\n",
      "  OWNDATA : True\n",
      "  WRITEABLE : True\n",
      "  ALIGNED : True\n",
      "  WRITEBACKIFCOPY : False\n",
      "  UPDATEIFCOPY : False\n",
      "\n"
     ]
    }
   ],
   "source": [
    "import numpy as np\n",
    "a=np.array([[97,13,19],[12,37,8]])\n",
    "print(a.flags)"
   ]
  },
  {
   "cell_type": "code",
   "execution_count": 21,
   "id": "1420651a",
   "metadata": {},
   "outputs": [
    {
     "name": "stdout",
     "output_type": "stream",
     "text": [
      "[1 2 3 6 3]\n",
      "[(1, 2, 3) (4, 5)]\n",
      "[0. 0. 0. 0. 0. 0.]\n"
     ]
    },
    {
     "name": "stderr",
     "output_type": "stream",
     "text": [
      "C:\\Users\\GPREC\\AppData\\Local\\Temp\\ipykernel_18232\\2386379711.py:5: VisibleDeprecationWarning: Creating an ndarray from ragged nested sequences (which is a list-or-tuple of lists-or-tuples-or ndarrays with different lengths or shapes) is deprecated. If you meant to do this, you must specify 'dtype=object' when creating the ndarray.\n",
      "  i = np.asarray(y)\n"
     ]
    }
   ],
   "source": [
    "x=[1,2,3,6,3]\n",
    "a=np.asarray(x)\n",
    "print(a)\n",
    "y = [(1,2,3),(4,5)]\n",
    "i = np.asarray(y)\n",
    "print(i)\n",
    "z=[0.0,0.4,0.5,0.2,0.9,20]\n",
    "b=np.zeros(6);\n",
    "print(b)"
   ]
  },
  {
   "cell_type": "code",
   "execution_count": 22,
   "id": "e2b87b91",
   "metadata": {},
   "outputs": [
    {
     "name": "stdout",
     "output_type": "stream",
     "text": [
      "[[0 1 2]\n",
      " [3 4 5]]\n",
      "[[0 3]\n",
      " [1 4]\n",
      " [2 5]]\n"
     ]
    },
    {
     "data": {
      "text/plain": [
       "array([ 2.,  7.,  6.,  8.,  3.,  6., 25.,  0.])"
      ]
     },
     "execution_count": 22,
     "metadata": {},
     "output_type": "execute_result"
    }
   ],
   "source": [
    "a=np.array(range(6)).reshape(2,3)\n",
    "print(a)\n",
    "print(a.transpose())\n",
    "b=np.array([2,7],float)\n",
    "c=np.array([6,8,3,6],float)\n",
    "d=np.array([25,0],float);\n",
    "np.concatenate((b,c,d))"
   ]
  },
  {
   "cell_type": "code",
   "execution_count": null,
   "id": "27156523",
   "metadata": {},
   "outputs": [],
   "source": []
  },
  {
   "cell_type": "code",
   "execution_count": null,
   "id": "00b76beb",
   "metadata": {},
   "outputs": [],
   "source": []
  },
  {
   "cell_type": "code",
   "execution_count": null,
   "id": "41d31fb9",
   "metadata": {},
   "outputs": [],
   "source": []
  }
 ],
 "metadata": {
  "kernelspec": {
   "display_name": "Python 3 (ipykernel)",
   "language": "python",
   "name": "python3"
  },
  "language_info": {
   "codemirror_mode": {
    "name": "ipython",
    "version": 3
   },
   "file_extension": ".py",
   "mimetype": "text/x-python",
   "name": "python",
   "nbconvert_exporter": "python",
   "pygments_lexer": "ipython3",
   "version": "3.9.13"
  }
 },
 "nbformat": 4,
 "nbformat_minor": 5
}
